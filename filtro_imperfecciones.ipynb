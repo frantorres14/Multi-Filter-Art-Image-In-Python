{
 "cells": [
  {
   "cell_type": "markdown",
   "metadata": {},
   "source": [
    "# Filtro para quitar imperfecciones"
   ]
  },
  {
   "cell_type": "markdown",
   "metadata": {},
   "source": [
    "+ Leer la imagen\n",
    "+ Crear una copia\n",
    "+ Aplicar filtro gaussiano\n",
    "+ Aplicar un alpha a ambas imágenes\n",
    "+ mostrar ambas imágenes"
   ]
  },
  {
   "cell_type": "code",
   "execution_count": null,
   "metadata": {},
   "outputs": [],
   "source": []
  }
 ],
 "metadata": {
  "language_info": {
   "name": "python"
  }
 },
 "nbformat": 5,
 "nbformat_minor": 10
}
